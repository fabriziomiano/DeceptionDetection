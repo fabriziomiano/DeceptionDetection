{
 "cells": [
  {
   "cell_type": "code",
   "execution_count": 7,
   "metadata": {},
   "outputs": [],
   "source": [
    "import glob\n",
    "import os\n",
    "import librosa\n",
    "import librosa.display\n",
    "import numpy as np\n",
    "from matplotlib import pyplot as plt\n",
    "\n",
    "PARENT_DIR = \"/Users/mbare/Documents/audana-dataset/dataset/Audio/\"\n",
    "SUB_DIRS = [\"Truthful\",\"Deceptive\"]"
   ]
  },
  {
   "cell_type": "code",
   "execution_count": 8,
   "metadata": {},
   "outputs": [],
   "source": [
    "def fex(file_name):\n",
    "    X, sample_rate = librosa.load(file_name)\n",
    "    stft = np.abs(librosa.stft(X))\n",
    "    chroma = np.mean(librosa.feature.chroma_stft(S=stft, sr=sample_rate).T,axis=0)\n",
    "    return chroma\n",
    "\n",
    "\n",
    "def parse_audio_files(parent_dir,sub_dirs,file_ext=\"*.wav\"):\n",
    "    # array with dimension = mfccs.shape + chroma.shape\n",
    "    features, labels = np.empty((0,12)), np.empty(0)\n",
    "    for label, sub_dir in enumerate(sub_dirs):\n",
    "        for fn in glob.glob(os.path.join(parent_dir, \n",
    "                                         sub_dir, \n",
    "                                         file_ext)):\n",
    "            try:\n",
    "                chroma = fex(fn)\n",
    "            except Exception as e:\n",
    "              print (\"Error encountered while parsing file: %s\", fn)\n",
    "              continue\n",
    "            ext_features = np.hstack([chroma])\n",
    "            features = np.vstack([features,ext_features])\n",
    "            labels = np.append(labels, [1 if sub_dir==\"Deceptive\" else 0])\n",
    "    return np.array(features), np.array(labels, dtype = np.int)"
   ]
  },
  {
   "cell_type": "code",
   "execution_count": 9,
   "metadata": {},
   "outputs": [],
   "source": [
    "features, labels = parse_audio_files(PARENT_DIR, SUB_DIRS)"
   ]
  },
  {
   "cell_type": "code",
   "execution_count": 10,
   "metadata": {},
   "outputs": [
    {
     "data": {
      "image/png": "[encoded data removed]",
      "text/plain": [
       "<Figure size 432x288 with 1 Axes>"
      ]
     },
     "metadata": {
      "needs_background": "light"
     },
     "output_type": "display_data"
    }
   ],
   "source": [
    "from sklearn.decomposition import PCA\n",
    "\n",
    "pca = PCA()\n",
    "pca.fit(features)\n",
    "plt.plot(np.cumsum(pca.explained_variance_ratio_))\n",
    "plt.xlabel('number of components')\n",
    "plt.ylabel('cumulative explained variance');\n",
    "plt.title('Choice of number of PCs')\n",
    "plt.grid(True)"
   ]
  },
  {
   "cell_type": "code",
   "execution_count": 11,
   "metadata": {},
   "outputs": [
    {
     "name": "stdout",
     "output_type": "stream",
     "text": [
      "(121, 4)\n",
      "(121,)\n"
     ]
    }
   ],
   "source": [
    "from sklearn.preprocessing import StandardScaler\n",
    "\n",
    "standardized_features = StandardScaler().fit_transform(features)\n",
    "reduced_pca = PCA(n_components=4)\n",
    "principal_components = reduced_pca.fit_transform(standardized_features)\n",
    "print(principal_components.shape)\n",
    "print(labels.shape)"
   ]
  },
  {
   "cell_type": "code",
   "execution_count": 12,
   "metadata": {},
   "outputs": [
    {
     "data": {
      "text/html": [
       "<div>\n",
       "<style scoped>\n",
       "    .dataframe tbody tr th:only-of-type {\n",
       "        vertical-align: middle;\n",
       "    }\n",
       "\n",
       "    .dataframe tbody tr th {\n",
       "        vertical-align: top;\n",
       "    }\n",
       "\n",
       "    .dataframe thead th {\n",
       "        text-align: right;\n",
       "    }\n",
       "</style>\n",
       "<table border=\"1\" class=\"dataframe\">\n",
       "  <thead>\n",
       "    <tr style=\"text-align: right;\">\n",
       "      <th></th>\n",
       "      <th>0</th>\n",
       "      <th>1</th>\n",
       "      <th>2</th>\n",
       "      <th>3</th>\n",
       "      <th>4</th>\n",
       "      <th>5</th>\n",
       "      <th>6</th>\n",
       "      <th>7</th>\n",
       "      <th>8</th>\n",
       "      <th>9</th>\n",
       "      <th>10</th>\n",
       "      <th>11</th>\n",
       "      <th>label</th>\n",
       "    </tr>\n",
       "  </thead>\n",
       "  <tbody>\n",
       "    <tr>\n",
       "      <th>116</th>\n",
       "      <td>0.522188</td>\n",
       "      <td>0.502324</td>\n",
       "      <td>0.477780</td>\n",
       "      <td>0.502185</td>\n",
       "      <td>0.583943</td>\n",
       "      <td>0.697440</td>\n",
       "      <td>0.699333</td>\n",
       "      <td>0.657837</td>\n",
       "      <td>0.633348</td>\n",
       "      <td>0.618245</td>\n",
       "      <td>0.535261</td>\n",
       "      <td>0.503383</td>\n",
       "      <td>1</td>\n",
       "    </tr>\n",
       "    <tr>\n",
       "      <th>117</th>\n",
       "      <td>0.694828</td>\n",
       "      <td>0.690556</td>\n",
       "      <td>0.657120</td>\n",
       "      <td>0.653022</td>\n",
       "      <td>0.617551</td>\n",
       "      <td>0.610847</td>\n",
       "      <td>0.581469</td>\n",
       "      <td>0.584137</td>\n",
       "      <td>0.625026</td>\n",
       "      <td>0.624868</td>\n",
       "      <td>0.621213</td>\n",
       "      <td>0.645981</td>\n",
       "      <td>1</td>\n",
       "    </tr>\n",
       "    <tr>\n",
       "      <th>118</th>\n",
       "      <td>0.560937</td>\n",
       "      <td>0.568390</td>\n",
       "      <td>0.553677</td>\n",
       "      <td>0.580499</td>\n",
       "      <td>0.604580</td>\n",
       "      <td>0.662368</td>\n",
       "      <td>0.729838</td>\n",
       "      <td>0.756027</td>\n",
       "      <td>0.716345</td>\n",
       "      <td>0.691740</td>\n",
       "      <td>0.657973</td>\n",
       "      <td>0.583232</td>\n",
       "      <td>1</td>\n",
       "    </tr>\n",
       "    <tr>\n",
       "      <th>119</th>\n",
       "      <td>0.541171</td>\n",
       "      <td>0.566872</td>\n",
       "      <td>0.536944</td>\n",
       "      <td>0.547835</td>\n",
       "      <td>0.551300</td>\n",
       "      <td>0.633421</td>\n",
       "      <td>0.676887</td>\n",
       "      <td>0.727658</td>\n",
       "      <td>0.702815</td>\n",
       "      <td>0.659791</td>\n",
       "      <td>0.630659</td>\n",
       "      <td>0.565615</td>\n",
       "      <td>1</td>\n",
       "    </tr>\n",
       "    <tr>\n",
       "      <th>120</th>\n",
       "      <td>0.657511</td>\n",
       "      <td>0.610039</td>\n",
       "      <td>0.599384</td>\n",
       "      <td>0.550504</td>\n",
       "      <td>0.533021</td>\n",
       "      <td>0.517022</td>\n",
       "      <td>0.539248</td>\n",
       "      <td>0.546552</td>\n",
       "      <td>0.565787</td>\n",
       "      <td>0.611721</td>\n",
       "      <td>0.644859</td>\n",
       "      <td>0.666211</td>\n",
       "      <td>1</td>\n",
       "    </tr>\n",
       "  </tbody>\n",
       "</table>\n",
       "</div>"
      ],
      "text/plain": [
       "            0         1         2         3         4         5         6  \\\n",
       "116  0.522188  0.502324  0.477780  0.502185  0.583943  0.697440  0.699333   \n",
       "117  0.694828  0.690556  0.657120  0.653022  0.617551  0.610847  0.581469   \n",
       "118  0.560937  0.568390  0.553677  0.580499  0.604580  0.662368  0.729838   \n",
       "119  0.541171  0.566872  0.536944  0.547835  0.551300  0.633421  0.676887   \n",
       "120  0.657511  0.610039  0.599384  0.550504  0.533021  0.517022  0.539248   \n",
       "\n",
       "            7         8         9        10        11  label  \n",
       "116  0.657837  0.633348  0.618245  0.535261  0.503383      1  \n",
       "117  0.584137  0.625026  0.624868  0.621213  0.645981      1  \n",
       "118  0.756027  0.716345  0.691740  0.657973  0.583232      1  \n",
       "119  0.727658  0.702815  0.659791  0.630659  0.565615      1  \n",
       "120  0.546552  0.565787  0.611721  0.644859  0.666211      1  "
      ]
     },
     "execution_count": 12,
     "metadata": {},
     "output_type": "execute_result"
    }
   ],
   "source": [
    "import pandas as pd\n",
    "\n",
    "df_features = pd.DataFrame(data=features)\n",
    "df_labels = pd.DataFrame(data=labels, columns=['label'])\n",
    "df_features_and_labels = pd.concat([df_features, df_labels['label']], axis=1)\n",
    "df_features_and_labels.tail()"
   ]
  },
  {
   "cell_type": "code",
   "execution_count": 13,
   "metadata": {},
   "outputs": [
    {
     "data": {
      "text/html": [
       "<div>\n",
       "<style scoped>\n",
       "    .dataframe tbody tr th:only-of-type {\n",
       "        vertical-align: middle;\n",
       "    }\n",
       "\n",
       "    .dataframe tbody tr th {\n",
       "        vertical-align: top;\n",
       "    }\n",
       "\n",
       "    .dataframe thead th {\n",
       "        text-align: right;\n",
       "    }\n",
       "</style>\n",
       "<table border=\"1\" class=\"dataframe\">\n",
       "  <thead>\n",
       "    <tr style=\"text-align: right;\">\n",
       "      <th></th>\n",
       "      <th>pc 1</th>\n",
       "      <th>pc 2</th>\n",
       "      <th>pc 3</th>\n",
       "      <th>pc 4</th>\n",
       "      <th>label</th>\n",
       "    </tr>\n",
       "  </thead>\n",
       "  <tbody>\n",
       "    <tr>\n",
       "      <th>0</th>\n",
       "      <td>3.087889</td>\n",
       "      <td>1.496144</td>\n",
       "      <td>0.978442</td>\n",
       "      <td>0.112267</td>\n",
       "      <td>0</td>\n",
       "    </tr>\n",
       "    <tr>\n",
       "      <th>1</th>\n",
       "      <td>-1.597754</td>\n",
       "      <td>2.688727</td>\n",
       "      <td>0.534352</td>\n",
       "      <td>0.690874</td>\n",
       "      <td>0</td>\n",
       "    </tr>\n",
       "    <tr>\n",
       "      <th>2</th>\n",
       "      <td>3.519427</td>\n",
       "      <td>1.277749</td>\n",
       "      <td>-2.383027</td>\n",
       "      <td>-0.064439</td>\n",
       "      <td>0</td>\n",
       "    </tr>\n",
       "    <tr>\n",
       "      <th>3</th>\n",
       "      <td>-2.200291</td>\n",
       "      <td>-0.019665</td>\n",
       "      <td>0.041933</td>\n",
       "      <td>0.350933</td>\n",
       "      <td>0</td>\n",
       "    </tr>\n",
       "    <tr>\n",
       "      <th>4</th>\n",
       "      <td>-2.487794</td>\n",
       "      <td>-2.555118</td>\n",
       "      <td>0.476228</td>\n",
       "      <td>-0.923779</td>\n",
       "      <td>0</td>\n",
       "    </tr>\n",
       "  </tbody>\n",
       "</table>\n",
       "</div>"
      ],
      "text/plain": [
       "       pc 1      pc 2      pc 3      pc 4  label\n",
       "0  3.087889  1.496144  0.978442  0.112267      0\n",
       "1 -1.597754  2.688727  0.534352  0.690874      0\n",
       "2  3.519427  1.277749 -2.383027 -0.064439      0\n",
       "3 -2.200291 -0.019665  0.041933  0.350933      0\n",
       "4 -2.487794 -2.555118  0.476228 -0.923779      0"
      ]
     },
     "execution_count": 13,
     "metadata": {},
     "output_type": "execute_result"
    }
   ],
   "source": [
    "pc_df = pd.DataFrame(data=principal_components, columns=['pc 1', 'pc 2', 'pc 3', 'pc 4'])\n",
    "pc_df = pd.concat([pc_df, df_labels['label']], axis = 1)\n",
    "pc_df.head(5)"
   ]
  },
  {
   "cell_type": "code",
   "execution_count": 19,
   "metadata": {},
   "outputs": [
    {
     "name": "stdout",
     "output_type": "stream",
     "text": [
      "Truthful 0\n",
      "Deceptive 1\n"
     ]
    },
    {
     "data": {
      "image/png": "[encoded data removed]",
      "text/plain": [
       "<Figure size 576x576 with 1 Axes>"
      ]
     },
     "metadata": {
      "needs_background": "light"
     },
     "output_type": "display_data"
    }
   ],
   "source": [
    "fig = plt.figure(figsize = (8,8))\n",
    "ax = fig.add_subplot(1,1,1) \n",
    "ax.set_xlabel('Principal Component 3', fontsize = 15)\n",
    "ax.set_ylabel('Principal Component 4', fontsize = 15)\n",
    "ax.set_title('4 Component PCA', fontsize = 20)\n",
    "\n",
    "hr_labels = SUB_DIRS\n",
    "num_labels = [0,1]\n",
    "for l,n in zip(hr_labels, num_labels):\n",
    "    print(l,n)\n",
    "colors = ['b', 'r']\n",
    "for label, color in zip(num_labels,colors):\n",
    "    indicesToKeep = pc_df['label'] == label\n",
    "    ax.scatter(pc_df.loc[indicesToKeep, 'pc 3'],\n",
    "               pc_df.loc[indicesToKeep, 'pc 4'],\n",
    "               c = color,\n",
    "               s = 50)\n",
    "ax.legend(hr_labels)\n",
    "ax.grid()"
   ]
  },
  {
   "cell_type": "code",
   "execution_count": null,
   "metadata": {},
   "outputs": [],
   "source": []
  }
 ],
 "metadata": {
  "kernelspec": {
   "display_name": "Python 3",
   "language": "python",
   "name": "python3"
  },
  "language_info": {
   "codemirror_mode": {
    "name": "ipython",
    "version": 3
   },
   "file_extension": ".py",
   "mimetype": "text/x-python",
   "name": "python",
   "nbconvert_exporter": "python",
   "pygments_lexer": "ipython3",
   "version": "3.7.0"
  }
 },
 "nbformat": 4,
 "nbformat_minor": 2
}
