{
 "cells": [
  {
   "cell_type": "code",
   "execution_count": 45,
   "metadata": {},
   "outputs": [],
   "source": [
    "import glob\n",
    "import os\n",
    "import librosa\n",
    "import numpy as np\n",
    "import speechpy\n",
    "from keras import layers, models\n",
    "from keras.callbacks import TensorBoard\n",
    "from keras.models import Sequential, model_from_json\n",
    "from keras.layers import Dense, Activation, Dropout\n",
    "from sklearn.model_selection import train_test_split\n",
    "\n",
    "DATA_DIR = \"/Users/mbare/Documents/audana-dataset/dataset/Audio/\"\n",
    "SUB_DIRS = [\"Truthful\", \"Deceptive\"]\n",
    "\n",
    "\n",
    "def find_max_mfccs_len(parent_dir,sub_dirs):\n",
    "    lengths_mfccs = []\n",
    "    for sub_dir in sub_dirs:\n",
    "        for file_name in glob.glob(\n",
    "            os.path.join(\n",
    "                parent_dir,\n",
    "                sub_dir,\n",
    "                \"*.wav\")):\n",
    "            X, sample_rate = librosa.load(file_name)\n",
    "            mfccs = librosa.feature.mfcc(y=X, sr=sample_rate).T\n",
    "            len_mfccs = mfccs.shape[0]\n",
    "            lengths_mfccs.append(len_mfccs)\n",
    "    max_len = sorted(lengths_mfccs,reverse=True)[0]\n",
    "    print(\"Max MFCCS: \" + str(max_len) + \". Will pad based on this\")\n",
    "    return max_len\n",
    "\n",
    "\n",
    "def extract_feature(file_name):\n",
    "    X, sample_rate = librosa.load(file_name)\n",
    "    mfccs = librosa.feature.mfcc(y=X, sr=sample_rate, n_mfcc=10)\n",
    "    mfccs = speechpy.processing.cmvnw(mfccs, win_size=301, variance_normalization=True)\n",
    "    mfccs = np.mean(mfccs.T, axis=0)\n",
    "    return mfccs\n",
    "\n",
    "\n",
    "def parse_audio_files(parent_dir,sub_dirs):\n",
    "    features, labels = np.empty((0, 10)), np.empty(0)\n",
    "    for label, sub_dir in enumerate(sub_dirs):\n",
    "        for fn in glob.glob(os.path.join(parent_dir, \n",
    "                                         sub_dir, \n",
    "                                         \"*.wav\")):\n",
    "            try:\n",
    "                mfccs = extract_feature(fn)\n",
    "            except Exception as e:\n",
    "              print (\"Error encountered while parsing file: \", fn)\n",
    "              continue\n",
    "            ext_features = np.hstack([mfccs])\n",
    "            features = np.vstack([features,ext_features])\n",
    "            labels = np.append(labels, [1 if sub_dir==\"Deceptive\" else 0])\n",
    "    return np.array(features), np.array(labels, dtype = np.int)\n"
   ]
  },
  {
   "cell_type": "code",
   "execution_count": 46,
   "metadata": {},
   "outputs": [],
   "source": [
    "features, labels = parse_audio_files(DATA_DIR, SUB_DIRS)"
   ]
  },
  {
   "cell_type": "code",
   "execution_count": 47,
   "metadata": {},
   "outputs": [],
   "source": [
    "X_train, X_test, y_train, y_test = train_test_split(\n",
    "    features, labels, test_size=0.2, random_state=42)\n",
    "model = Sequential()\n",
    "model.add(Dense(16, kernel_initializer='uniform', activation='relu'))\n",
    "model.add(Dense(2, kernel_initializer='uniform', activation='relu'))\n",
    "model.add(Dense(1, kernel_initializer='uniform', activation='sigmoid'))\n",
    "model.compile(loss='binary_crossentropy', optimizer='adam', metrics=['accuracy'])"
   ]
  },
  {
   "cell_type": "code",
   "execution_count": 48,
   "metadata": {},
   "outputs": [
    {
     "data": {
      "text/plain": [
       "<keras.callbacks.History at 0x12e8f04a8>"
      ]
     },
     "execution_count": 48,
     "metadata": {},
     "output_type": "execute_result"
    }
   ],
   "source": [
    "tensorboard = TensorBoard(log_dir='./logs/run4_10mfccs/', \n",
    "                          write_graph=True, \n",
    "                          write_images=False)\n",
    "\n",
    "model.fit(X_train, y_train,\n",
    "          epochs=200,\n",
    "          validation_data=(X_test, y_test),\n",
    "          shuffle=True,\n",
    "          verbose=False,\n",
    "          callbacks=[tensorboard])"
   ]
  },
  {
   "cell_type": "code",
   "execution_count": 49,
   "metadata": {},
   "outputs": [
    {
     "name": "stdout",
     "output_type": "stream",
     "text": [
      "25/25 [==============================] - 0s 28us/step\n",
      "acc: 76.00%\n"
     ]
    }
   ],
   "source": [
    "scores = model.evaluate(X_test, y_test)\n",
    "print(\"%s: %.2f%%\" % (model.metrics_names[1], scores[1]*100))"
   ]
  },
  {
   "cell_type": "code",
   "execution_count": null,
   "metadata": {},
   "outputs": [],
   "source": []
  }
 ],
 "metadata": {
  "kernelspec": {
   "display_name": "audana",
   "language": "python",
   "name": "audana"
  },
  "language_info": {
   "codemirror_mode": {
    "name": "ipython",
    "version": 3
   },
   "file_extension": ".py",
   "mimetype": "text/x-python",
   "name": "python",
   "nbconvert_exporter": "python",
   "pygments_lexer": "ipython3",
   "version": "3.6.7"
  }
 },
 "nbformat": 4,
 "nbformat_minor": 2
}
