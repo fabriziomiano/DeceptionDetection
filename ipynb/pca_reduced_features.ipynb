{
 "cells": [
  {
   "cell_type": "code",
   "execution_count": 93,
   "metadata": {},
   "outputs": [],
   "source": [
    "import glob\n",
    "import os\n",
    "import librosa\n",
    "import librosa.display\n",
    "import numpy as np\n",
    "from matplotlib import pyplot as plt\n",
    "\n",
    "PARENT_DIR = \"/Users/mbare/Documents/audana-dataset/dataset/Audio/\"\n",
    "SUB_DIRS = [\"Truthful\",\"Deceptive\"]"
   ]
  },
  {
   "cell_type": "code",
   "execution_count": 94,
   "metadata": {},
   "outputs": [],
   "source": [
    "def fex(file_name):\n",
    "    X, sample_rate = librosa.load(file_name)\n",
    "    stft = np.abs(librosa.stft(X))\n",
    "    mfccs = np.mean(librosa.feature.mfcc(y=X, sr=sample_rate, n_mfcc=40).T,axis=0)\n",
    "    chroma = np.mean(librosa.feature.chroma_stft(S=stft, sr=sample_rate).T,axis=0)\n",
    "    return mfccs, chroma\n",
    "\n",
    "\n",
    "def parse_audio_files(parent_dir,sub_dirs,file_ext=\"*.wav\"):\n",
    "    # array with dimension = mfccs.shape + chroma.shape\n",
    "    features, labels = np.empty((0,52)), np.empty(0)\n",
    "    for label, sub_dir in enumerate(sub_dirs):\n",
    "        for fn in glob.glob(os.path.join(parent_dir, \n",
    "                                         sub_dir, \n",
    "                                         file_ext)):\n",
    "            try:\n",
    "                mfccs, chroma = fex(fn)\n",
    "            except Exception as e:\n",
    "              print (\"Error encountered while parsing file: %s\", fn)\n",
    "              continue\n",
    "            ext_features = np.hstack([mfccs, chroma])\n",
    "            features = np.vstack([features,ext_features])\n",
    "            labels = np.append(labels, [1 if sub_dir==\"Deceptive\" else 0])\n",
    "    return np.array(features), np.array(labels, dtype = np.int)"
   ]
  },
  {
   "cell_type": "code",
   "execution_count": 95,
   "metadata": {},
   "outputs": [],
   "source": [
    "features, labels = parse_audio_files(PARENT_DIR, SUB_DIRS)"
   ]
  },
  {
   "cell_type": "code",
   "execution_count": 96,
   "metadata": {},
   "outputs": [
    {
     "name": "stdout",
     "output_type": "stream",
     "text": [
      "(121, 52)\n",
      "(121,)\n"
     ]
    }
   ],
   "source": [
    "print(features.shape)\n",
    "print(labels.shape)"
   ]
  },
  {
   "cell_type": "code",
   "execution_count": 97,
   "metadata": {},
   "outputs": [
    {
     "data": {
      "image/png": "[encoded data removed]",
      "text/plain": [
       "<Figure size 432x288 with 1 Axes>"
      ]
     },
     "metadata": {
      "needs_background": "light"
     },
     "output_type": "display_data"
    }
   ],
   "source": [
    "from sklearn.decomposition import PCA\n",
    "\n",
    "pca = PCA()\n",
    "pca.fit(features)\n",
    "plt.plot(np.cumsum(pca.explained_variance_ratio_))\n",
    "plt.xlabel('number of components')\n",
    "plt.ylabel('cumulative explained variance');\n",
    "plt.title('Choice of number of PCs')\n",
    "plt.grid(True)"
   ]
  },
  {
   "cell_type": "code",
   "execution_count": 98,
   "metadata": {},
   "outputs": [
    {
     "data": {
      "image/png": "[encoded data removed]",
      "text/plain": [
       "<Figure size 432x288 with 1 Axes>"
      ]
     },
     "metadata": {
      "needs_background": "light"
     },
     "output_type": "display_data"
    }
   ],
   "source": [
    "xmin = -1\n",
    "xmax = 10\n",
    "plt.plot(np.cumsum(pca.explained_variance_ratio_))\n",
    "plt.xlabel('number of components')\n",
    "plt.ylabel('cumulative explained variance');\n",
    "plt.title('Choice of number of PCs')\n",
    "plt.xlim(xmin,xmax)\n",
    "plt.grid(True)"
   ]
  },
  {
   "cell_type": "code",
   "execution_count": 99,
   "metadata": {},
   "outputs": [
    {
     "name": "stdout",
     "output_type": "stream",
     "text": [
      "(121, 4)\n",
      "(121,)\n"
     ]
    }
   ],
   "source": [
    "from sklearn.preprocessing import StandardScaler\n",
    "\n",
    "standardized_features = StandardScaler().fit_transform(features)\n",
    "reduced_pca = PCA(n_components=4)\n",
    "principal_components = reduced_pca.fit_transform(standardized_features)\n",
    "print(principal_components.shape)\n",
    "print(labels.shape)"
   ]
  },
  {
   "cell_type": "code",
   "execution_count": 100,
   "metadata": {},
   "outputs": [
    {
     "data": {
      "text/html": [
       "<div>\n",
       "<style scoped>\n",
       "    .dataframe tbody tr th:only-of-type {\n",
       "        vertical-align: middle;\n",
       "    }\n",
       "\n",
       "    .dataframe tbody tr th {\n",
       "        vertical-align: top;\n",
       "    }\n",
       "\n",
       "    .dataframe thead th {\n",
       "        text-align: right;\n",
       "    }\n",
       "</style>\n",
       "<table border=\"1\" class=\"dataframe\">\n",
       "  <thead>\n",
       "    <tr style=\"text-align: right;\">\n",
       "      <th></th>\n",
       "      <th>0</th>\n",
       "      <th>1</th>\n",
       "      <th>2</th>\n",
       "      <th>3</th>\n",
       "      <th>4</th>\n",
       "      <th>5</th>\n",
       "      <th>6</th>\n",
       "      <th>7</th>\n",
       "      <th>8</th>\n",
       "      <th>9</th>\n",
       "      <th>...</th>\n",
       "      <th>43</th>\n",
       "      <th>44</th>\n",
       "      <th>45</th>\n",
       "      <th>46</th>\n",
       "      <th>47</th>\n",
       "      <th>48</th>\n",
       "      <th>49</th>\n",
       "      <th>50</th>\n",
       "      <th>51</th>\n",
       "      <th>label</th>\n",
       "    </tr>\n",
       "  </thead>\n",
       "  <tbody>\n",
       "    <tr>\n",
       "      <th>116</th>\n",
       "      <td>-358.355306</td>\n",
       "      <td>94.415814</td>\n",
       "      <td>-0.350819</td>\n",
       "      <td>10.142907</td>\n",
       "      <td>-3.679876</td>\n",
       "      <td>-20.022183</td>\n",
       "      <td>-16.579841</td>\n",
       "      <td>-12.708696</td>\n",
       "      <td>-12.933064</td>\n",
       "      <td>-3.735204</td>\n",
       "      <td>...</td>\n",
       "      <td>0.502185</td>\n",
       "      <td>0.583943</td>\n",
       "      <td>0.697440</td>\n",
       "      <td>0.699333</td>\n",
       "      <td>0.657837</td>\n",
       "      <td>0.633348</td>\n",
       "      <td>0.618245</td>\n",
       "      <td>0.535261</td>\n",
       "      <td>0.503383</td>\n",
       "      <td>1</td>\n",
       "    </tr>\n",
       "    <tr>\n",
       "      <th>117</th>\n",
       "      <td>-616.106252</td>\n",
       "      <td>158.321906</td>\n",
       "      <td>-18.357332</td>\n",
       "      <td>44.994190</td>\n",
       "      <td>4.076223</td>\n",
       "      <td>1.206783</td>\n",
       "      <td>17.703185</td>\n",
       "      <td>-14.488147</td>\n",
       "      <td>2.491090</td>\n",
       "      <td>-7.105201</td>\n",
       "      <td>...</td>\n",
       "      <td>0.653022</td>\n",
       "      <td>0.617551</td>\n",
       "      <td>0.610847</td>\n",
       "      <td>0.581469</td>\n",
       "      <td>0.584137</td>\n",
       "      <td>0.625026</td>\n",
       "      <td>0.624868</td>\n",
       "      <td>0.621213</td>\n",
       "      <td>0.645981</td>\n",
       "      <td>1</td>\n",
       "    </tr>\n",
       "    <tr>\n",
       "      <th>118</th>\n",
       "      <td>-339.486752</td>\n",
       "      <td>87.621269</td>\n",
       "      <td>-0.878842</td>\n",
       "      <td>6.663431</td>\n",
       "      <td>-6.175074</td>\n",
       "      <td>-16.212869</td>\n",
       "      <td>-15.636353</td>\n",
       "      <td>-9.505026</td>\n",
       "      <td>-14.643525</td>\n",
       "      <td>-4.014314</td>\n",
       "      <td>...</td>\n",
       "      <td>0.580499</td>\n",
       "      <td>0.604580</td>\n",
       "      <td>0.662368</td>\n",
       "      <td>0.729838</td>\n",
       "      <td>0.756027</td>\n",
       "      <td>0.716345</td>\n",
       "      <td>0.691740</td>\n",
       "      <td>0.657973</td>\n",
       "      <td>0.583232</td>\n",
       "      <td>1</td>\n",
       "    </tr>\n",
       "    <tr>\n",
       "      <th>119</th>\n",
       "      <td>-357.175207</td>\n",
       "      <td>95.897525</td>\n",
       "      <td>1.655496</td>\n",
       "      <td>3.293001</td>\n",
       "      <td>-4.225724</td>\n",
       "      <td>-16.720692</td>\n",
       "      <td>-17.230453</td>\n",
       "      <td>-11.820822</td>\n",
       "      <td>-13.484032</td>\n",
       "      <td>-3.005328</td>\n",
       "      <td>...</td>\n",
       "      <td>0.547835</td>\n",
       "      <td>0.551300</td>\n",
       "      <td>0.633421</td>\n",
       "      <td>0.676887</td>\n",
       "      <td>0.727658</td>\n",
       "      <td>0.702815</td>\n",
       "      <td>0.659791</td>\n",
       "      <td>0.630659</td>\n",
       "      <td>0.565615</td>\n",
       "      <td>1</td>\n",
       "    </tr>\n",
       "    <tr>\n",
       "      <th>120</th>\n",
       "      <td>-213.228649</td>\n",
       "      <td>141.678837</td>\n",
       "      <td>31.045588</td>\n",
       "      <td>42.152237</td>\n",
       "      <td>20.988577</td>\n",
       "      <td>17.707597</td>\n",
       "      <td>7.422600</td>\n",
       "      <td>9.941549</td>\n",
       "      <td>-0.640248</td>\n",
       "      <td>2.111654</td>\n",
       "      <td>...</td>\n",
       "      <td>0.550504</td>\n",
       "      <td>0.533021</td>\n",
       "      <td>0.517022</td>\n",
       "      <td>0.539248</td>\n",
       "      <td>0.546552</td>\n",
       "      <td>0.565787</td>\n",
       "      <td>0.611721</td>\n",
       "      <td>0.644859</td>\n",
       "      <td>0.666211</td>\n",
       "      <td>1</td>\n",
       "    </tr>\n",
       "  </tbody>\n",
       "</table>\n",
       "<p>5 rows × 53 columns</p>\n",
       "</div>"
      ],
      "text/plain": [
       "              0           1          2          3          4          5  \\\n",
       "116 -358.355306   94.415814  -0.350819  10.142907  -3.679876 -20.022183   \n",
       "117 -616.106252  158.321906 -18.357332  44.994190   4.076223   1.206783   \n",
       "118 -339.486752   87.621269  -0.878842   6.663431  -6.175074 -16.212869   \n",
       "119 -357.175207   95.897525   1.655496   3.293001  -4.225724 -16.720692   \n",
       "120 -213.228649  141.678837  31.045588  42.152237  20.988577  17.707597   \n",
       "\n",
       "             6          7          8         9  ...          43        44  \\\n",
       "116 -16.579841 -12.708696 -12.933064 -3.735204  ...    0.502185  0.583943   \n",
       "117  17.703185 -14.488147   2.491090 -7.105201  ...    0.653022  0.617551   \n",
       "118 -15.636353  -9.505026 -14.643525 -4.014314  ...    0.580499  0.604580   \n",
       "119 -17.230453 -11.820822 -13.484032 -3.005328  ...    0.547835  0.551300   \n",
       "120   7.422600   9.941549  -0.640248  2.111654  ...    0.550504  0.533021   \n",
       "\n",
       "           45        46        47        48        49        50        51  \\\n",
       "116  0.697440  0.699333  0.657837  0.633348  0.618245  0.535261  0.503383   \n",
       "117  0.610847  0.581469  0.584137  0.625026  0.624868  0.621213  0.645981   \n",
       "118  0.662368  0.729838  0.756027  0.716345  0.691740  0.657973  0.583232   \n",
       "119  0.633421  0.676887  0.727658  0.702815  0.659791  0.630659  0.565615   \n",
       "120  0.517022  0.539248  0.546552  0.565787  0.611721  0.644859  0.666211   \n",
       "\n",
       "     label  \n",
       "116      1  \n",
       "117      1  \n",
       "118      1  \n",
       "119      1  \n",
       "120      1  \n",
       "\n",
       "[5 rows x 53 columns]"
      ]
     },
     "execution_count": 100,
     "metadata": {},
     "output_type": "execute_result"
    }
   ],
   "source": [
    "import pandas as pd\n",
    "\n",
    "df_features = pd.DataFrame(data=features)\n",
    "df_labels = pd.DataFrame(data=labels, columns=['label'])\n",
    "df_features_and_labels = pd.concat([df_features, df_labels['label']], axis=1)\n",
    "df_features_and_labels.tail()"
   ]
  },
  {
   "cell_type": "code",
   "execution_count": 103,
   "metadata": {},
   "outputs": [
    {
     "data": {
      "text/html": [
       "<div>\n",
       "<style scoped>\n",
       "    .dataframe tbody tr th:only-of-type {\n",
       "        vertical-align: middle;\n",
       "    }\n",
       "\n",
       "    .dataframe tbody tr th {\n",
       "        vertical-align: top;\n",
       "    }\n",
       "\n",
       "    .dataframe thead th {\n",
       "        text-align: right;\n",
       "    }\n",
       "</style>\n",
       "<table border=\"1\" class=\"dataframe\">\n",
       "  <thead>\n",
       "    <tr style=\"text-align: right;\">\n",
       "      <th></th>\n",
       "      <th>pc 1</th>\n",
       "      <th>pc 2</th>\n",
       "      <th>pc 3</th>\n",
       "      <th>pc 4</th>\n",
       "      <th>label</th>\n",
       "    </tr>\n",
       "  </thead>\n",
       "  <tbody>\n",
       "    <tr>\n",
       "      <th>0</th>\n",
       "      <td>1.927023</td>\n",
       "      <td>0.302472</td>\n",
       "      <td>3.636386</td>\n",
       "      <td>-0.673281</td>\n",
       "      <td>0</td>\n",
       "    </tr>\n",
       "    <tr>\n",
       "      <th>1</th>\n",
       "      <td>-2.869256</td>\n",
       "      <td>-3.734330</td>\n",
       "      <td>0.160620</td>\n",
       "      <td>-0.031924</td>\n",
       "      <td>0</td>\n",
       "    </tr>\n",
       "    <tr>\n",
       "      <th>2</th>\n",
       "      <td>0.275133</td>\n",
       "      <td>1.402902</td>\n",
       "      <td>2.348625</td>\n",
       "      <td>7.010972</td>\n",
       "      <td>0</td>\n",
       "    </tr>\n",
       "    <tr>\n",
       "      <th>3</th>\n",
       "      <td>-2.814179</td>\n",
       "      <td>-1.353553</td>\n",
       "      <td>-1.009736</td>\n",
       "      <td>-0.278972</td>\n",
       "      <td>0</td>\n",
       "    </tr>\n",
       "    <tr>\n",
       "      <th>4</th>\n",
       "      <td>-4.657027</td>\n",
       "      <td>-0.241914</td>\n",
       "      <td>1.169476</td>\n",
       "      <td>-1.632430</td>\n",
       "      <td>0</td>\n",
       "    </tr>\n",
       "  </tbody>\n",
       "</table>\n",
       "</div>"
      ],
      "text/plain": [
       "       pc 1      pc 2      pc 3      pc 4  label\n",
       "0  1.927023  0.302472  3.636386 -0.673281      0\n",
       "1 -2.869256 -3.734330  0.160620 -0.031924      0\n",
       "2  0.275133  1.402902  2.348625  7.010972      0\n",
       "3 -2.814179 -1.353553 -1.009736 -0.278972      0\n",
       "4 -4.657027 -0.241914  1.169476 -1.632430      0"
      ]
     },
     "execution_count": 103,
     "metadata": {},
     "output_type": "execute_result"
    }
   ],
   "source": [
    "pc_df = pd.DataFrame(data=principal_components, columns=['pc 1', 'pc 2', 'pc 3', 'pc 4'])\n",
    "pc_df = pd.concat([pc_df, df_labels['label']], axis = 1)\n",
    "pc_df.head(5)"
   ]
  },
  {
   "cell_type": "code",
   "execution_count": 118,
   "metadata": {},
   "outputs": [
    {
     "name": "stdout",
     "output_type": "stream",
     "text": [
      "Truthful 0\n",
      "Deceptive 1\n"
     ]
    },
    {
     "data": {
      "image/png": "[encoded data removed]",
      "text/plain": [
       "<Figure size 576x576 with 1 Axes>"
      ]
     },
     "metadata": {
      "needs_background": "light"
     },
     "output_type": "display_data"
    }
   ],
   "source": [
    "fig = plt.figure(figsize = (8,8))\n",
    "ax = fig.add_subplot(1,1,1) \n",
    "ax.set_xlabel('Principal Component 2', fontsize = 15)\n",
    "ax.set_ylabel('Principal Component 4', fontsize = 15)\n",
    "# ax.set_ylabel('Principal Component 3', fontsize = 15)\n",
    "ax.set_title('4 Component PCA', fontsize = 20)\n",
    "\n",
    "hr_labels = SUB_DIRS\n",
    "num_labels = [0,1]\n",
    "for l,n in zip(hr_labels, num_labels):\n",
    "    print(l,n)\n",
    "colors = ['b', 'r']\n",
    "for label, color in zip(num_labels,colors):\n",
    "    indicesToKeep = pc_df['label'] == label\n",
    "    ax.scatter(pc_df.loc[indicesToKeep, 'pc 2'],\n",
    "               pc_df.loc[indicesToKeep, 'pc 4'],\n",
    "               c = color,\n",
    "               s = 50)\n",
    "ax.legend(hr_labels)\n",
    "ax.grid()"
   ]
  }
 ],
 "metadata": {
  "kernelspec": {
   "display_name": "Python 3",
   "language": "python",
   "name": "python3"
  },
  "language_info": {
   "codemirror_mode": {
    "name": "ipython",
    "version": 3
   },
   "file_extension": ".py",
   "mimetype": "text/x-python",
   "name": "python",
   "nbconvert_exporter": "python",
   "pygments_lexer": "ipython3",
   "version": "3.7.0"
  }
 },
 "nbformat": 4,
 "nbformat_minor": 2
}
