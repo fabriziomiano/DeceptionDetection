{
 "cells": [
  {
   "cell_type": "code",
   "execution_count": 1,
   "metadata": {},
   "outputs": [],
   "source": [
    "import glob\n",
    "import os\n",
    "import librosa\n",
    "import librosa.display\n",
    "import numpy as np\n",
    "from matplotlib import pyplot as plt\n",
    "\n",
    "PARENT_DIR = \"/Users/mbare/Documents/audana-dataset/dataset/Audio/\"\n",
    "SUB_DIRS = [\"Truthful\",\"Deceptive\"]"
   ]
  },
  {
   "cell_type": "code",
   "execution_count": 7,
   "metadata": {},
   "outputs": [],
   "source": [
    "def fex(file_name):\n",
    "    X, sample_rate = librosa.load(file_name)\n",
    "    mfccs = np.mean(librosa.feature.mfcc(y=X, sr=sample_rate, n_mfcc=40).T,axis=0)\n",
    "    return mfccs\n",
    "\n",
    "\n",
    "def parse_audio_files(parent_dir,sub_dirs,file_ext=\"*.wav\"):\n",
    "    # array with dimension = mfccs.shape + chroma.shape\n",
    "    features, labels = np.empty((0,40)), np.empty(0)\n",
    "    for label, sub_dir in enumerate(sub_dirs):\n",
    "        for fn in glob.glob(os.path.join(parent_dir, \n",
    "                                         sub_dir, \n",
    "                                         file_ext)):\n",
    "            try:\n",
    "                mfccs = fex(fn)\n",
    "            except Exception as e:\n",
    "              print (\"Error encountered while parsing file: \", fn)\n",
    "              continue\n",
    "            ext_features = np.hstack([mfccs])\n",
    "            features = np.vstack([features,ext_features])\n",
    "            labels = np.append(labels, [1 if sub_dir==\"Deceptive\" else 0])\n",
    "    return np.array(features), np.array(labels, dtype = np.int)"
   ]
  },
  {
   "cell_type": "code",
   "execution_count": 8,
   "metadata": {},
   "outputs": [],
   "source": [
    "features, labels = parse_audio_files(PARENT_DIR, SUB_DIRS)"
   ]
  },
  {
   "cell_type": "code",
   "execution_count": 9,
   "metadata": {},
   "outputs": [
    {
     "name": "stdout",
     "output_type": "stream",
     "text": [
      "(121, 40)\n",
      "(121,)\n"
     ]
    }
   ],
   "source": [
    "print(features.shape)\n",
    "print(labels.shape)"
   ]
  },
  {
   "cell_type": "code",
   "execution_count": 10,
   "metadata": {},
   "outputs": [
    {
     "data": {
      "image/png": "[encoded data removed]",
      "text/plain": [
       "<Figure size 432x288 with 1 Axes>"
      ]
     },
     "metadata": {
      "needs_background": "light"
     },
     "output_type": "display_data"
    }
   ],
   "source": [
    "from sklearn.decomposition import PCA\n",
    "\n",
    "pca = PCA()\n",
    "pca.fit(features)\n",
    "plt.plot(np.cumsum(pca.explained_variance_ratio_))\n",
    "plt.xlabel('number of components')\n",
    "plt.ylabel('cumulative explained variance');\n",
    "plt.title('Choice of number of PCs')\n",
    "plt.grid(True)"
   ]
  },
  {
   "cell_type": "code",
   "execution_count": 11,
   "metadata": {},
   "outputs": [
    {
     "data": {
      "image/png": "[encoded data removed]",
      "text/plain": [
       "<Figure size 432x288 with 1 Axes>"
      ]
     },
     "metadata": {
      "needs_background": "light"
     },
     "output_type": "display_data"
    }
   ],
   "source": [
    "xmin = -1\n",
    "xmax = 10\n",
    "plt.plot(np.cumsum(pca.explained_variance_ratio_))\n",
    "plt.xlabel('number of components')\n",
    "plt.ylabel('cumulative explained variance');\n",
    "plt.title('Choice of number of PCs')\n",
    "plt.xlim(xmin,xmax)\n",
    "plt.grid(True)"
   ]
  },
  {
   "cell_type": "code",
   "execution_count": 12,
   "metadata": {},
   "outputs": [
    {
     "name": "stdout",
     "output_type": "stream",
     "text": [
      "(121, 4)\n",
      "(121,)\n"
     ]
    },
    {
     "data": {
      "text/html": [
       "<div>\n",
       "<style scoped>\n",
       "    .dataframe tbody tr th:only-of-type {\n",
       "        vertical-align: middle;\n",
       "    }\n",
       "\n",
       "    .dataframe tbody tr th {\n",
       "        vertical-align: top;\n",
       "    }\n",
       "\n",
       "    .dataframe thead th {\n",
       "        text-align: right;\n",
       "    }\n",
       "</style>\n",
       "<table border=\"1\" class=\"dataframe\">\n",
       "  <thead>\n",
       "    <tr style=\"text-align: right;\">\n",
       "      <th></th>\n",
       "      <th>0</th>\n",
       "      <th>1</th>\n",
       "      <th>2</th>\n",
       "      <th>3</th>\n",
       "      <th>4</th>\n",
       "      <th>5</th>\n",
       "      <th>6</th>\n",
       "      <th>7</th>\n",
       "      <th>8</th>\n",
       "      <th>9</th>\n",
       "      <th>...</th>\n",
       "      <th>31</th>\n",
       "      <th>32</th>\n",
       "      <th>33</th>\n",
       "      <th>34</th>\n",
       "      <th>35</th>\n",
       "      <th>36</th>\n",
       "      <th>37</th>\n",
       "      <th>38</th>\n",
       "      <th>39</th>\n",
       "      <th>label</th>\n",
       "    </tr>\n",
       "  </thead>\n",
       "  <tbody>\n",
       "    <tr>\n",
       "      <th>116</th>\n",
       "      <td>-358.355306</td>\n",
       "      <td>94.415814</td>\n",
       "      <td>-0.350819</td>\n",
       "      <td>10.142907</td>\n",
       "      <td>-3.679876</td>\n",
       "      <td>-20.022183</td>\n",
       "      <td>-16.579841</td>\n",
       "      <td>-12.708696</td>\n",
       "      <td>-12.933064</td>\n",
       "      <td>-3.735204</td>\n",
       "      <td>...</td>\n",
       "      <td>0.680033</td>\n",
       "      <td>-0.983068</td>\n",
       "      <td>1.773505</td>\n",
       "      <td>-0.114398</td>\n",
       "      <td>5.396056</td>\n",
       "      <td>3.408657</td>\n",
       "      <td>6.327762</td>\n",
       "      <td>2.661160</td>\n",
       "      <td>5.604755</td>\n",
       "      <td>1</td>\n",
       "    </tr>\n",
       "    <tr>\n",
       "      <th>117</th>\n",
       "      <td>-616.106252</td>\n",
       "      <td>158.321906</td>\n",
       "      <td>-18.357332</td>\n",
       "      <td>44.994190</td>\n",
       "      <td>4.076223</td>\n",
       "      <td>1.206783</td>\n",
       "      <td>17.703185</td>\n",
       "      <td>-14.488147</td>\n",
       "      <td>2.491090</td>\n",
       "      <td>-7.105201</td>\n",
       "      <td>...</td>\n",
       "      <td>1.694409</td>\n",
       "      <td>2.990318</td>\n",
       "      <td>1.170147</td>\n",
       "      <td>4.524802</td>\n",
       "      <td>-0.087311</td>\n",
       "      <td>3.028227</td>\n",
       "      <td>3.716431</td>\n",
       "      <td>-1.531751</td>\n",
       "      <td>3.808217</td>\n",
       "      <td>1</td>\n",
       "    </tr>\n",
       "    <tr>\n",
       "      <th>118</th>\n",
       "      <td>-339.486752</td>\n",
       "      <td>87.621269</td>\n",
       "      <td>-0.878842</td>\n",
       "      <td>6.663431</td>\n",
       "      <td>-6.175074</td>\n",
       "      <td>-16.212869</td>\n",
       "      <td>-15.636353</td>\n",
       "      <td>-9.505026</td>\n",
       "      <td>-14.643525</td>\n",
       "      <td>-4.014314</td>\n",
       "      <td>...</td>\n",
       "      <td>1.261211</td>\n",
       "      <td>-1.014982</td>\n",
       "      <td>3.534091</td>\n",
       "      <td>-0.228755</td>\n",
       "      <td>5.015391</td>\n",
       "      <td>1.469593</td>\n",
       "      <td>4.997812</td>\n",
       "      <td>0.276559</td>\n",
       "      <td>3.881045</td>\n",
       "      <td>1</td>\n",
       "    </tr>\n",
       "    <tr>\n",
       "      <th>119</th>\n",
       "      <td>-357.175207</td>\n",
       "      <td>95.897525</td>\n",
       "      <td>1.655496</td>\n",
       "      <td>3.293001</td>\n",
       "      <td>-4.225724</td>\n",
       "      <td>-16.720692</td>\n",
       "      <td>-17.230453</td>\n",
       "      <td>-11.820822</td>\n",
       "      <td>-13.484032</td>\n",
       "      <td>-3.005328</td>\n",
       "      <td>...</td>\n",
       "      <td>0.183520</td>\n",
       "      <td>-1.069986</td>\n",
       "      <td>2.464088</td>\n",
       "      <td>0.231598</td>\n",
       "      <td>4.867931</td>\n",
       "      <td>2.275063</td>\n",
       "      <td>4.857603</td>\n",
       "      <td>1.332177</td>\n",
       "      <td>4.265622</td>\n",
       "      <td>1</td>\n",
       "    </tr>\n",
       "    <tr>\n",
       "      <th>120</th>\n",
       "      <td>-213.228649</td>\n",
       "      <td>141.678837</td>\n",
       "      <td>31.045588</td>\n",
       "      <td>42.152237</td>\n",
       "      <td>20.988577</td>\n",
       "      <td>17.707597</td>\n",
       "      <td>7.422600</td>\n",
       "      <td>9.941549</td>\n",
       "      <td>-0.640248</td>\n",
       "      <td>2.111654</td>\n",
       "      <td>...</td>\n",
       "      <td>-2.604413</td>\n",
       "      <td>-3.075770</td>\n",
       "      <td>-2.958265</td>\n",
       "      <td>-4.016537</td>\n",
       "      <td>-3.572115</td>\n",
       "      <td>-3.538950</td>\n",
       "      <td>-2.491395</td>\n",
       "      <td>-3.499022</td>\n",
       "      <td>-3.302745</td>\n",
       "      <td>1</td>\n",
       "    </tr>\n",
       "  </tbody>\n",
       "</table>\n",
       "<p>5 rows × 41 columns</p>\n",
       "</div>"
      ],
      "text/plain": [
       "              0           1          2          3          4          5  \\\n",
       "116 -358.355306   94.415814  -0.350819  10.142907  -3.679876 -20.022183   \n",
       "117 -616.106252  158.321906 -18.357332  44.994190   4.076223   1.206783   \n",
       "118 -339.486752   87.621269  -0.878842   6.663431  -6.175074 -16.212869   \n",
       "119 -357.175207   95.897525   1.655496   3.293001  -4.225724 -16.720692   \n",
       "120 -213.228649  141.678837  31.045588  42.152237  20.988577  17.707597   \n",
       "\n",
       "             6          7          8         9  ...          31        32  \\\n",
       "116 -16.579841 -12.708696 -12.933064 -3.735204  ...    0.680033 -0.983068   \n",
       "117  17.703185 -14.488147   2.491090 -7.105201  ...    1.694409  2.990318   \n",
       "118 -15.636353  -9.505026 -14.643525 -4.014314  ...    1.261211 -1.014982   \n",
       "119 -17.230453 -11.820822 -13.484032 -3.005328  ...    0.183520 -1.069986   \n",
       "120   7.422600   9.941549  -0.640248  2.111654  ...   -2.604413 -3.075770   \n",
       "\n",
       "           33        34        35        36        37        38        39  \\\n",
       "116  1.773505 -0.114398  5.396056  3.408657  6.327762  2.661160  5.604755   \n",
       "117  1.170147  4.524802 -0.087311  3.028227  3.716431 -1.531751  3.808217   \n",
       "118  3.534091 -0.228755  5.015391  1.469593  4.997812  0.276559  3.881045   \n",
       "119  2.464088  0.231598  4.867931  2.275063  4.857603  1.332177  4.265622   \n",
       "120 -2.958265 -4.016537 -3.572115 -3.538950 -2.491395 -3.499022 -3.302745   \n",
       "\n",
       "     label  \n",
       "116      1  \n",
       "117      1  \n",
       "118      1  \n",
       "119      1  \n",
       "120      1  \n",
       "\n",
       "[5 rows x 41 columns]"
      ]
     },
     "execution_count": 12,
     "metadata": {},
     "output_type": "execute_result"
    }
   ],
   "source": [
    "from sklearn.preprocessing import StandardScaler\n",
    "import pandas as pd\n",
    "\n",
    "\n",
    "standardized_features = StandardScaler().fit_transform(features)\n",
    "reduced_pca = PCA(n_components=4)\n",
    "principal_components = reduced_pca.fit_transform(standardized_features)\n",
    "print(principal_components.shape)\n",
    "print(labels.shape)\n",
    "\n",
    "df_features = pd.DataFrame(data=features)\n",
    "df_labels = pd.DataFrame(data=labels, columns=['label'])\n",
    "df_features_and_labels = pd.concat([df_features, df_labels['label']], axis=1)\n",
    "df_features_and_labels.tail()"
   ]
  },
  {
   "cell_type": "code",
   "execution_count": 13,
   "metadata": {},
   "outputs": [
    {
     "data": {
      "text/html": [
       "<div>\n",
       "<style scoped>\n",
       "    .dataframe tbody tr th:only-of-type {\n",
       "        vertical-align: middle;\n",
       "    }\n",
       "\n",
       "    .dataframe tbody tr th {\n",
       "        vertical-align: top;\n",
       "    }\n",
       "\n",
       "    .dataframe thead th {\n",
       "        text-align: right;\n",
       "    }\n",
       "</style>\n",
       "<table border=\"1\" class=\"dataframe\">\n",
       "  <thead>\n",
       "    <tr style=\"text-align: right;\">\n",
       "      <th></th>\n",
       "      <th>pc 1</th>\n",
       "      <th>pc 2</th>\n",
       "      <th>pc 3</th>\n",
       "      <th>pc 4</th>\n",
       "      <th>label</th>\n",
       "    </tr>\n",
       "  </thead>\n",
       "  <tbody>\n",
       "    <tr>\n",
       "      <th>0</th>\n",
       "      <td>0.387282</td>\n",
       "      <td>0.258813</td>\n",
       "      <td>-2.773386</td>\n",
       "      <td>1.022096</td>\n",
       "      <td>0</td>\n",
       "    </tr>\n",
       "    <tr>\n",
       "      <th>1</th>\n",
       "      <td>0.101596</td>\n",
       "      <td>-3.659187</td>\n",
       "      <td>0.368888</td>\n",
       "      <td>-3.031923</td>\n",
       "      <td>0</td>\n",
       "    </tr>\n",
       "    <tr>\n",
       "      <th>2</th>\n",
       "      <td>-1.690836</td>\n",
       "      <td>-1.044317</td>\n",
       "      <td>3.474435</td>\n",
       "      <td>4.445592</td>\n",
       "      <td>0</td>\n",
       "    </tr>\n",
       "    <tr>\n",
       "      <th>3</th>\n",
       "      <td>-1.033900</td>\n",
       "      <td>-2.041137</td>\n",
       "      <td>0.364494</td>\n",
       "      <td>0.137173</td>\n",
       "      <td>0</td>\n",
       "    </tr>\n",
       "    <tr>\n",
       "      <th>4</th>\n",
       "      <td>-3.626598</td>\n",
       "      <td>-3.189643</td>\n",
       "      <td>-2.060299</td>\n",
       "      <td>1.769260</td>\n",
       "      <td>0</td>\n",
       "    </tr>\n",
       "  </tbody>\n",
       "</table>\n",
       "</div>"
      ],
      "text/plain": [
       "       pc 1      pc 2      pc 3      pc 4  label\n",
       "0  0.387282  0.258813 -2.773386  1.022096      0\n",
       "1  0.101596 -3.659187  0.368888 -3.031923      0\n",
       "2 -1.690836 -1.044317  3.474435  4.445592      0\n",
       "3 -1.033900 -2.041137  0.364494  0.137173      0\n",
       "4 -3.626598 -3.189643 -2.060299  1.769260      0"
      ]
     },
     "execution_count": 13,
     "metadata": {},
     "output_type": "execute_result"
    }
   ],
   "source": [
    "pc_df = pd.DataFrame(data=principal_components, columns=['pc 1', 'pc 2', 'pc 3', 'pc 4'])\n",
    "pc_df = pd.concat([pc_df, df_labels['label']], axis = 1)\n",
    "pc_df.head(5)"
   ]
  },
  {
   "cell_type": "code",
   "execution_count": 19,
   "metadata": {},
   "outputs": [
    {
     "name": "stdout",
     "output_type": "stream",
     "text": [
      "Truthful 0\n",
      "Deceptive 1\n"
     ]
    },
    {
     "data": {
      "image/png": "[encoded data removed]",
      "text/plain": [
       "<Figure size 576x576 with 1 Axes>"
      ]
     },
     "metadata": {
      "needs_background": "light"
     },
     "output_type": "display_data"
    }
   ],
   "source": [
    "fig = plt.figure(figsize = (8,8))\n",
    "ax = fig.add_subplot(1,1,1) \n",
    "ax.set_xlabel('Principal Component 3', fontsize = 15)\n",
    "ax.set_ylabel('Principal Component 4', fontsize = 15)\n",
    "ax.set_title('4 Component PCA mfccs only 40 coeffs', fontsize = 20)\n",
    "\n",
    "hr_labels = SUB_DIRS\n",
    "num_labels = [0,1]\n",
    "for l,n in zip(hr_labels, num_labels):\n",
    "    print(l,n)\n",
    "colors = ['b', 'r']\n",
    "for label, color in zip(num_labels,colors):\n",
    "    indicesToKeep = pc_df['label'] == label\n",
    "    ax.scatter(pc_df.loc[indicesToKeep, 'pc 3'],\n",
    "               pc_df.loc[indicesToKeep, 'pc 4'],\n",
    "               c = color,\n",
    "               s = 50)\n",
    "ax.legend(hr_labels)\n",
    "ax.grid()"
   ]
  },
  {
   "cell_type": "code",
   "execution_count": null,
   "metadata": {},
   "outputs": [],
   "source": []
  }
 ],
 "metadata": {
  "kernelspec": {
   "display_name": "Python 3",
   "language": "python",
   "name": "python3"
  },
  "language_info": {
   "codemirror_mode": {
    "name": "ipython",
    "version": 3
   },
   "file_extension": ".py",
   "mimetype": "text/x-python",
   "name": "python",
   "nbconvert_exporter": "python",
   "pygments_lexer": "ipython3",
   "version": "3.7.0"
  }
 },
 "nbformat": 4,
 "nbformat_minor": 2
}
