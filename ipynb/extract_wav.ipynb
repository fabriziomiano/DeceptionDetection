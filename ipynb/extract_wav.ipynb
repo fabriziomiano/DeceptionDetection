{
 "cells": [
  {
   "cell_type": "code",
   "execution_count": 27,
   "metadata": {},
   "outputs": [],
   "source": [
    "import subprocess\n",
    "import os\n",
    "\n",
    "AUDIO = \"/Users/mbare/Documents/deception-detection/dataset/Audio/\"\n",
    "DATA = \"/Users/mbare/Documents/deception-detection/dataset/Clips/\"\n",
    "\n",
    "for directory in os.listdir(DATA):\n",
    "    if directory.startswith('.'): \n",
    "        continue\n",
    "    dir_input = os.path.join(DATA, directory)\n",
    "    for clip in os.listdir(dir_input):\n",
    "        file_in = os.path.join(dir_input, clip)\n",
    "        dir_name = dir_input.split('/')[-1]\n",
    "        dir_output = os.path.join(AUDIO, dir_name)\n",
    "        file_out = os.path.join(dir_output, clip)\n",
    "        command = \"ffmpeg -i \" + file_in + \" -ab 160k -ac 2 -ar 44100 -vn \" + (file_out.strip('.mp4')) +\".wav\"\n",
    "        subprocess.call(command, shell=True)\n",
    "        "
   ]
  }
 ],
 "metadata": {
  "kernelspec": {
   "display_name": "Python 3",
   "language": "python",
   "name": "python3"
  },
  "language_info": {
   "codemirror_mode": {
    "name": "ipython",
    "version": 3
   },
   "file_extension": ".py",
   "mimetype": "text/x-python",
   "name": "python",
   "nbconvert_exporter": "python",
   "pygments_lexer": "ipython3",
   "version": "3.7.0"
  }
 },
 "nbformat": 4,
 "nbformat_minor": 2
}
