{
 "cells": [
  {
   "cell_type": "code",
   "execution_count": 2,
   "metadata": {},
   "outputs": [
    {
     "name": "stderr",
     "output_type": "stream",
     "text": [
      "Using TensorFlow backend.\n"
     ]
    }
   ],
   "source": [
    "import glob\n",
    "import os\n",
    "import librosa\n",
    "import numpy as np\n",
    "import pandas as pd\n",
    "import speechpy\n",
    "from matplotlib import pyplot as plt\n",
    "from keras import layers, models\n",
    "from keras.callbacks import TensorBoard\n",
    "from keras.models import Sequential, model_from_json\n",
    "from keras.layers import Dense, Activation, Dropout\n",
    "from keras.optimizers import Adam\n",
    "from sklearn.model_selection import train_test_split\n",
    "\n",
    "mfccs_df = pd.read_csv(\"mfccs_features.csv\")\n",
    "allfeat_df = pd.read_csv(\"all_features.csv\")\n",
    "features = allfeat_df.loc[:, allfeat_df.columns != \"labels\"].values\n",
    "mfccs_features = mfccs_df.loc[:, mfccs_df.columns != \"labels\"].values\n",
    "labels = allfeat_df.loc[:, \"labels\"].values"
   ]
  },
  {
   "cell_type": "code",
   "execution_count": 4,
   "metadata": {},
   "outputs": [
    {
     "data": {
      "text/plain": [
       "<keras.callbacks.History at 0x12a18ab38>"
      ]
     },
     "execution_count": 4,
     "metadata": {},
     "output_type": "execute_result"
    }
   ],
   "source": [
    "X_train, X_test, y_train, y_test = train_test_split(\n",
    "    features, labels, test_size=0.2, random_state=42)\n",
    "model = Sequential()\n",
    "model.add(Dense(52, kernel_initializer='uniform'))\n",
    "model.add(Dense(26, kernel_initializer='uniform', activation='relu'))\n",
    "model.add(Dense(13, kernel_initializer='uniform', activation='relu'))\n",
    "model.add(Dense(1, kernel_initializer='uniform', activation='sigmoid'))\n",
    "# adam = Adam(lr=0.0001)\n",
    "model.compile(loss='binary_crossentropy', optimizer='adam', metrics=['accuracy'])\n",
    "tensorboard = TensorBoard(log_dir='./tb-logs/4-layer/all/run3_noreluinput_sigmoid', \n",
    "                          write_graph=True, \n",
    "                          write_images=False)\n",
    "model.fit(X_train, y_train,\n",
    "          epochs=200,\n",
    "          validation_data=(X_test, y_test),\n",
    "          shuffle=True,\n",
    "          verbose=False,\n",
    "          callbacks=[tensorboard])"
   ]
  },
  {
   "cell_type": "code",
   "execution_count": 5,
   "metadata": {},
   "outputs": [
    {
     "data": {
      "text/plain": [
       "<keras.callbacks.History at 0x12a4cbd30>"
      ]
     },
     "execution_count": 5,
     "metadata": {},
     "output_type": "execute_result"
    }
   ],
   "source": [
    "X_train, X_test, y_train, y_test = train_test_split(\n",
    "    mfccs_features, labels, test_size=0.2, random_state=42)\n",
    "model = Sequential()\n",
    "model.add(Dense(52, kernel_initializer='uniform'))\n",
    "model.add(Dense(26, kernel_initializer='uniform', activation='relu'))\n",
    "model.add(Dense(13, kernel_initializer='uniform', activation='relu'))\n",
    "model.add(Dense(1, kernel_initializer='uniform', activation='sigmoid'))\n",
    "# adam = Adam(lr=0.0001)\n",
    "model.compile(loss='binary_crossentropy', optimizer='adam', metrics=['accuracy'])\n",
    "tensorboard = TensorBoard(log_dir='./tb-logs/4-layer/mfccs/run1', \n",
    "                          write_graph=True, \n",
    "                          write_images=False)\n",
    "model.fit(X_train, y_train,\n",
    "          epochs=200,\n",
    "          validation_data=(X_test, y_test),\n",
    "          shuffle=True,\n",
    "          verbose=False,\n",
    "          callbacks=[tensorboard])"
   ]
  },
  {
   "cell_type": "code",
   "execution_count": 6,
   "metadata": {},
   "outputs": [
    {
     "name": "stdout",
     "output_type": "stream",
     "text": [
      "25/25 [==============================] - 0s 372us/step\n",
      "acc: 84.00%\n"
     ]
    }
   ],
   "source": [
    "scores = model.evaluate(X_test, y_test)\n",
    "print(\"%s: %.2f%%\" % (model.metrics_names[1], scores[1]*100))"
   ]
  },
  {
   "cell_type": "code",
   "execution_count": null,
   "metadata": {},
   "outputs": [],
   "source": []
  }
 ],
 "metadata": {
  "kernelspec": {
   "display_name": "audana",
   "language": "python",
   "name": "audana"
  },
  "language_info": {
   "codemirror_mode": {
    "name": "ipython",
    "version": 3
   },
   "file_extension": ".py",
   "mimetype": "text/x-python",
   "name": "python",
   "nbconvert_exporter": "python",
   "pygments_lexer": "ipython3",
   "version": "3.6.7"
  }
 },
 "nbformat": 4,
 "nbformat_minor": 2
}
